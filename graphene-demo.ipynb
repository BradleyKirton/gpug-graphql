{
 "cells": [
  {
   "cell_type": "code",
   "execution_count": 16,
   "metadata": {},
   "outputs": [],
   "source": [
    "import graphene\n",
    "import typing"
   ]
  },
  {
   "cell_type": "markdown",
   "metadata": {},
   "source": [
    "## Some introductions"
   ]
  },
  {
   "cell_type": "code",
   "execution_count": 17,
   "metadata": {},
   "outputs": [
    {
     "data": {
      "text/plain": [
       "\u001b[0;31mInit signature:\u001b[0m \u001b[0mgraphene\u001b[0m\u001b[0;34m.\u001b[0m\u001b[0mObjectType\u001b[0m\u001b[0;34m(\u001b[0m\u001b[0;34m*\u001b[0m\u001b[0margs\u001b[0m\u001b[0;34m,\u001b[0m \u001b[0;34m**\u001b[0m\u001b[0mkwargs\u001b[0m\u001b[0;34m)\u001b[0m\u001b[0;34m\u001b[0m\u001b[0m\n",
       "\u001b[0;31mDocstring:\u001b[0m     \n",
       "Object Type Definition\n",
       "\n",
       "Almost all of the GraphQL types you define will be object types. Object types\n",
       "have a name, but most importantly describe their fields.\n",
       "\u001b[0;31mFile:\u001b[0m           ~/.local/share/virtualenvs/gpug-9Pz75Evm/lib/python3.6/site-packages/graphene/types/objecttype.py\n",
       "\u001b[0;31mType:\u001b[0m           SubclassWithMeta_Meta\n"
      ]
     },
     "metadata": {},
     "output_type": "display_data"
    }
   ],
   "source": [
    "graphene.ObjectType?"
   ]
  },
  {
   "cell_type": "code",
   "execution_count": 36,
   "metadata": {},
   "outputs": [
    {
     "data": {
      "text/plain": [
       "\u001b[0;31mInit signature:\u001b[0m \u001b[0mgraphene\u001b[0m\u001b[0;34m.\u001b[0m\u001b[0mField\u001b[0m\u001b[0;34m(\u001b[0m\u001b[0mtype\u001b[0m\u001b[0;34m,\u001b[0m \u001b[0margs\u001b[0m\u001b[0;34m=\u001b[0m\u001b[0;32mNone\u001b[0m\u001b[0;34m,\u001b[0m \u001b[0mresolver\u001b[0m\u001b[0;34m=\u001b[0m\u001b[0;32mNone\u001b[0m\u001b[0;34m,\u001b[0m \u001b[0msource\u001b[0m\u001b[0;34m=\u001b[0m\u001b[0;32mNone\u001b[0m\u001b[0;34m,\u001b[0m \u001b[0mdeprecation_reason\u001b[0m\u001b[0;34m=\u001b[0m\u001b[0;32mNone\u001b[0m\u001b[0;34m,\u001b[0m \u001b[0mname\u001b[0m\u001b[0;34m=\u001b[0m\u001b[0;32mNone\u001b[0m\u001b[0;34m,\u001b[0m \u001b[0mdescription\u001b[0m\u001b[0;34m=\u001b[0m\u001b[0;32mNone\u001b[0m\u001b[0;34m,\u001b[0m \u001b[0mrequired\u001b[0m\u001b[0;34m=\u001b[0m\u001b[0;32mFalse\u001b[0m\u001b[0;34m,\u001b[0m \u001b[0m_creation_counter\u001b[0m\u001b[0;34m=\u001b[0m\u001b[0;32mNone\u001b[0m\u001b[0;34m,\u001b[0m \u001b[0mdefault_value\u001b[0m\u001b[0;34m=\u001b[0m\u001b[0;32mNone\u001b[0m\u001b[0;34m,\u001b[0m \u001b[0;34m**\u001b[0m\u001b[0mextra_args\u001b[0m\u001b[0;34m)\u001b[0m\u001b[0;34m\u001b[0m\u001b[0m\n",
       "\u001b[0;31mDocstring:\u001b[0m      <no docstring>\n",
       "\u001b[0;31mFile:\u001b[0m           ~/.local/share/virtualenvs/gpug-9Pz75Evm/lib/python3.6/site-packages/graphene/types/field.py\n",
       "\u001b[0;31mType:\u001b[0m           type\n"
      ]
     },
     "metadata": {},
     "output_type": "display_data"
    }
   ],
   "source": [
    "graphene.Field?"
   ]
  },
  {
   "cell_type": "code",
   "execution_count": 38,
   "metadata": {},
   "outputs": [
    {
     "data": {
      "text/plain": [
       "\u001b[0;31mInit signature:\u001b[0m \u001b[0mgraphene\u001b[0m\u001b[0;34m.\u001b[0m\u001b[0mScalar\u001b[0m\u001b[0;34m(\u001b[0m\u001b[0;34m*\u001b[0m\u001b[0margs\u001b[0m\u001b[0;34m,\u001b[0m \u001b[0;34m**\u001b[0m\u001b[0mkwargs\u001b[0m\u001b[0;34m)\u001b[0m\u001b[0;34m\u001b[0m\u001b[0m\n",
       "\u001b[0;31mDocstring:\u001b[0m     \n",
       "Scalar Type Definition\n",
       "\n",
       "The leaf values of any request and input values to arguments are\n",
       "Scalars (or Enums) and are defined with a name and a series of functions\n",
       "used to parse input from ast or variables and to ensure validity.\n",
       "\u001b[0;31mFile:\u001b[0m           ~/.local/share/virtualenvs/gpug-9Pz75Evm/lib/python3.6/site-packages/graphene/types/scalars.py\n",
       "\u001b[0;31mType:\u001b[0m           SubclassWithMeta_Meta\n"
      ]
     },
     "metadata": {},
     "output_type": "display_data"
    }
   ],
   "source": [
    "graphene.Scalar?"
   ]
  },
  {
   "cell_type": "code",
   "execution_count": 39,
   "metadata": {},
   "outputs": [
    {
     "data": {
      "text/plain": [
       "\u001b[0;31mInit signature:\u001b[0m \u001b[0mgraphene\u001b[0m\u001b[0;34m.\u001b[0m\u001b[0mList\u001b[0m\u001b[0;34m(\u001b[0m\u001b[0mof_type\u001b[0m\u001b[0;34m,\u001b[0m \u001b[0;34m*\u001b[0m\u001b[0margs\u001b[0m\u001b[0;34m,\u001b[0m \u001b[0;34m**\u001b[0m\u001b[0mkwargs\u001b[0m\u001b[0;34m)\u001b[0m\u001b[0;34m\u001b[0m\u001b[0m\n",
       "\u001b[0;31mDocstring:\u001b[0m     \n",
       "List Modifier\n",
       "\n",
       "A list is a kind of type marker, a wrapping type which points to another\n",
       "type. Lists are often created within the context of defining the fields of\n",
       "an object type.\n",
       "\u001b[0;31mFile:\u001b[0m           ~/.local/share/virtualenvs/gpug-9Pz75Evm/lib/python3.6/site-packages/graphene/types/structures.py\n",
       "\u001b[0;31mType:\u001b[0m           type\n"
      ]
     },
     "metadata": {},
     "output_type": "display_data"
    }
   ],
   "source": [
    "graphene.List?"
   ]
  },
  {
   "cell_type": "code",
   "execution_count": 26,
   "metadata": {},
   "outputs": [
    {
     "data": {
      "text/plain": [
       "\u001b[0;31mInit signature:\u001b[0m \u001b[0mgraphene\u001b[0m\u001b[0;34m.\u001b[0m\u001b[0mSchema\u001b[0m\u001b[0;34m(\u001b[0m\u001b[0mquery\u001b[0m\u001b[0;34m=\u001b[0m\u001b[0;32mNone\u001b[0m\u001b[0;34m,\u001b[0m \u001b[0mmutation\u001b[0m\u001b[0;34m=\u001b[0m\u001b[0;32mNone\u001b[0m\u001b[0;34m,\u001b[0m \u001b[0msubscription\u001b[0m\u001b[0;34m=\u001b[0m\u001b[0;32mNone\u001b[0m\u001b[0;34m,\u001b[0m \u001b[0mdirectives\u001b[0m\u001b[0;34m=\u001b[0m\u001b[0;32mNone\u001b[0m\u001b[0;34m,\u001b[0m \u001b[0mtypes\u001b[0m\u001b[0;34m=\u001b[0m\u001b[0;32mNone\u001b[0m\u001b[0;34m,\u001b[0m \u001b[0mauto_camelcase\u001b[0m\u001b[0;34m=\u001b[0m\u001b[0;32mTrue\u001b[0m\u001b[0;34m)\u001b[0m\u001b[0;34m\u001b[0m\u001b[0m\n",
       "\u001b[0;31mDocstring:\u001b[0m     \n",
       "Schema Definition\n",
       "\n",
       "A Schema is created by supplying the root types of each type of operation,\n",
       "query and mutation (optional).\n",
       "\u001b[0;31mFile:\u001b[0m           ~/.local/share/virtualenvs/gpug-9Pz75Evm/lib/python3.6/site-packages/graphene/types/schema.py\n",
       "\u001b[0;31mType:\u001b[0m           type\n"
      ]
     },
     "metadata": {},
     "output_type": "display_data"
    }
   ],
   "source": [
    "graphene.Schema?"
   ]
  },
  {
   "cell_type": "markdown",
   "metadata": {},
   "source": [
    "## Hello world and introspection\n",
    "\n",
    "- Define a graphene query\n",
    "- Create a graphene schema\n",
    "    - A schema requires a root query and optionally a root mutation and subscription"
   ]
  },
  {
   "cell_type": "code",
   "execution_count": 40,
   "metadata": {},
   "outputs": [],
   "source": [
    "class Query(graphene.ObjectType):\n",
    "    \"\"\"Used in introspection.\"\"\"\n",
    "    hello = graphene.String(description=\"Used in instrospection.\")\n",
    "\n",
    "    def resolve_hello(self, info: graphene.ResolveInfo, **kwargs: typing.Dict) -> str:\n",
    "        return \"Hello world\"\n",
    "\n",
    "    \n",
    "schema = graphene.Schema(query=Query, auto_camelcase=False)"
   ]
  },
  {
   "cell_type": "markdown",
   "metadata": {},
   "source": [
    "### Introspection\n",
    "\n",
    "Introspection is first class in GraphQL. Graphene builds documentation for your service using docstrings and attributes on your types and fields."
   ]
  },
  {
   "cell_type": "code",
   "execution_count": 42,
   "metadata": {},
   "outputs": [
    {
     "name": "stdout",
     "output_type": "stream",
     "text": [
      "description: Used in introspection.\n",
      "field name: hello\n",
      "field description: Used in instrospection.\n"
     ]
    }
   ],
   "source": [
    "# GraphQL is introspectable by default\n",
    "introspected = schema.introspect()\n",
    "graphql_types = introspected['__schema']['types']\n",
    "query_details = next(filter(lambda x: x['name'] == 'Query', graphql_types))\n",
    "\n",
    "print('description:', query_details['description'])\n",
    "print('field name:', query_details['fields'][0]['name'])\n",
    "print('field description:', query_details['fields'][0]['description'])"
   ]
  },
  {
   "cell_type": "markdown",
   "metadata": {},
   "source": [
    "### Excecution"
   ]
  },
  {
   "cell_type": "code",
   "execution_count": 43,
   "metadata": {},
   "outputs": [
    {
     "name": "stdout",
     "output_type": "stream",
     "text": [
      "\n",
      "Execution results:\n",
      "errors: None\n",
      "data: {'hello': 'Hello world'}\n"
     ]
    }
   ],
   "source": [
    "result = schema.execute(\"\"\"\n",
    "    query {\n",
    "        hello\n",
    "    }\n",
    "\"\"\")\n",
    "\n",
    "print('\\nExecution results:')\n",
    "print('errors:', result.errors)\n",
    "print('data:', dict(result.data))"
   ]
  },
  {
   "cell_type": "markdown",
   "metadata": {},
   "source": [
    "## More complex example"
   ]
  },
  {
   "cell_type": "code",
   "execution_count": 44,
   "metadata": {},
   "outputs": [],
   "source": [
    "artists = [\n",
    "    {'first_name': 'Ben', 'last_name': 'Howard'},\n",
    "    {'first_name': 'Damien', 'last_name': 'Rice'},\n",
    "    {'first_name': 'Noah', 'last_name': 'Gundersen'},\n",
    "]\n",
    "\n",
    "\n",
    "class ArtistType(graphene.ObjectType):\n",
    "    \"\"\"Artist type.\n",
    "\n",
    "    An artist is descibed by their first and last name.\n",
    "    \"\"\"\n",
    "    first_name = graphene.String()\n",
    "    last_name = graphene.String()\n",
    "\n",
    "    def resolve_first_name(self, info: graphene.ResolveInfo, **kwargs: typing.Dict) -> str:\n",
    "        return self.first_name\n",
    "\n",
    "    def resolve_last_name(self, info: graphene.ResolveInfo, **kwargs: typing.Dict) -> str:\n",
    "        return self.last_name\n",
    "\n",
    "\n",
    "class ArtistQuery(graphene.ObjectType):\n",
    "    \"\"\"Artist query.\n",
    "\n",
    "    Exposes the artist data.\n",
    "    \"\"\"\n",
    "    artists = graphene.List(ArtistType) # Note the list of artists\n",
    "\n",
    "    def resolve_artists(self, info: graphene.ResolveInfo, **kwargs: typing.Dict) -> str:\n",
    "        \"\"\"Returns a list of artists\"\"\"\n",
    "        return [ArtistType(**artist) for artist in artists]\n",
    "\n",
    "\n",
    "class Query(ArtistQuery, graphene.ObjectType):\n",
    "    pass\n",
    "\n",
    "\n",
    "schema = graphene.Schema(query=Query, auto_camelcase=False)"
   ]
  },
  {
   "cell_type": "markdown",
   "metadata": {},
   "source": [
    "### Execution"
   ]
  },
  {
   "cell_type": "code",
   "execution_count": 46,
   "metadata": {},
   "outputs": [
    {
     "data": {
      "text/plain": [
       "OrderedDict([('artists',\n",
       "              [OrderedDict([('first_name', 'Ben')]),\n",
       "               OrderedDict([('first_name', 'Damien')]),\n",
       "               OrderedDict([('first_name', 'Noah')])])])"
      ]
     },
     "execution_count": 46,
     "metadata": {},
     "output_type": "execute_result"
    }
   ],
   "source": [
    "result = schema.execute(\"\"\"\n",
    "    query {\n",
    "        artists {\n",
    "            first_name\n",
    "        }\n",
    "    }\n",
    "\"\"\")\n",
    "\n",
    "result.data"
   ]
  },
  {
   "cell_type": "code",
   "execution_count": 50,
   "metadata": {},
   "outputs": [
    {
     "data": {
      "text/plain": [
       "OrderedDict([('artists',\n",
       "              [OrderedDict([('last_name', 'Howard')]),\n",
       "               OrderedDict([('last_name', 'Rice')]),\n",
       "               OrderedDict([('last_name', 'Gundersen')])])])"
      ]
     },
     "execution_count": 50,
     "metadata": {},
     "output_type": "execute_result"
    }
   ],
   "source": [
    "result = schema.execute(\"\"\"\n",
    "    query {\n",
    "        artists {\n",
    "            last_name\n",
    "        }\n",
    "    }\n",
    "\"\"\")\n",
    "\n",
    "result.data"
   ]
  },
  {
   "cell_type": "code",
   "execution_count": 51,
   "metadata": {},
   "outputs": [
    {
     "data": {
      "text/plain": [
       "OrderedDict([('artists',\n",
       "              [OrderedDict([('first_name', 'Ben'), ('last_name', 'Howard')]),\n",
       "               OrderedDict([('first_name', 'Damien'), ('last_name', 'Rice')]),\n",
       "               OrderedDict([('first_name', 'Noah'),\n",
       "                            ('last_name', 'Gundersen')])])])"
      ]
     },
     "execution_count": 51,
     "metadata": {},
     "output_type": "execute_result"
    }
   ],
   "source": [
    "result = schema.execute(\"\"\"\n",
    "    query {\n",
    "        artists {\n",
    "            first_name\n",
    "            last_name\n",
    "        }\n",
    "    }\n",
    "\"\"\")\n",
    "\n",
    "result.data"
   ]
  },
  {
   "cell_type": "markdown",
   "metadata": {},
   "source": [
    "## Mutations\n",
    "\n",
    "A mutation is a write followed by a fetch. However you can think of it as a way to send data to the graphql service. Therefore mutations are not limited to CRUD, they can execute any arbitrary function."
   ]
  },
  {
   "cell_type": "code",
   "execution_count": 52,
   "metadata": {},
   "outputs": [],
   "source": [
    "class CreateArtist(graphene.Mutation):\n",
    "    \"\"\"Mutation to create an artist.\"\"\"\n",
    "    class Arguments:\n",
    "        first_name = graphene.String()\n",
    "        last_name = graphene.String()\n",
    "\n",
    "    status = graphene.String()\n",
    "    artist = graphene.Field(lambda: ArtistType)\n",
    "\n",
    "    def mutate(self, info: graphene.ResolveInfo, first_name: str, last_name: str):\n",
    "        artists.append({\n",
    "            'first_name': first_name,\n",
    "            'last_name': last_name\n",
    "        })\n",
    "        \n",
    "        return CreateArtist(\n",
    "            artist=ArtistType(first_name=first_name, last_name=last_name), \n",
    "            status='OK'\n",
    "        )\n",
    "\n",
    "\n",
    "class SendEmail(graphene.Mutation):\n",
    "    \"\"\"Mutation to mock send an email.\"\"\"\n",
    "    class Arguments:\n",
    "        name = graphene.String()\n",
    "\n",
    "    status = graphene.String()\n",
    "    \n",
    "    def mutate(self, info: graphene.ResolveInfo, name: str):\n",
    "        print('\\nSending email:')\n",
    "        print(f'Hello {name}, please send me your bank details.\\n')\n",
    "\n",
    "        return SendEmail(status=\"OK\")\n",
    "\n",
    "\n",
    "class Mutations(graphene.ObjectType):\n",
    "    create_artist = CreateArtist.Field()\n",
    "    send_email = SendEmail.Field()\n",
    "\n",
    "\n",
    "schema = graphene.Schema(mutation=Mutations, auto_camelcase=False)"
   ]
  },
  {
   "cell_type": "markdown",
   "metadata": {},
   "source": [
    "### Execution"
   ]
  },
  {
   "cell_type": "code",
   "execution_count": 58,
   "metadata": {},
   "outputs": [
    {
     "name": "stdout",
     "output_type": "stream",
     "text": [
      "Number of artists: 8\n",
      "OrderedDict([('create_artist', OrderedDict([('artist', OrderedDict([('first_name', 'John'), ('last_name', 'Lennon')])), ('status', 'OK')]))])\n",
      "Number of artists: 9\n"
     ]
    }
   ],
   "source": [
    "print(\"Number of artists:\", len(artists))\n",
    "\n",
    "result = schema.execute(\"\"\"\n",
    "    mutation call_create_artist {\n",
    "        create_artist(first_name: \"John\", last_name: \"Lennon\") {\n",
    "            artist {\n",
    "                first_name\n",
    "                last_name\n",
    "            }\n",
    "            status\n",
    "        }\n",
    "    }\n",
    "\"\"\")\n",
    "\n",
    "print(result.data)\n",
    "print(\"Number of artists:\", len(artists))"
   ]
  },
  {
   "cell_type": "code",
   "execution_count": 60,
   "metadata": {},
   "outputs": [
    {
     "name": "stdout",
     "output_type": "stream",
     "text": [
      "\n",
      "Sending email:\n",
      "Hello Bradley, please send me your bank details.\n",
      "\n",
      "Send email mutation: OrderedDict([('send_email', OrderedDict([('status', 'OK')]))])\n"
     ]
    }
   ],
   "source": [
    "# Call the send email mutation\n",
    "result = schema.execute(\"\"\"\n",
    "    mutation call_send_email {\n",
    "        send_email(name: \"Bradley\") {\n",
    "            status\n",
    "        }\n",
    "    }\n",
    "\"\"\")\n",
    "\n",
    "print(\"Send email mutation:\", result.data)"
   ]
  }
 ],
 "metadata": {
  "kernelspec": {
   "display_name": "Python 3",
   "language": "python",
   "name": "python3"
  },
  "language_info": {
   "codemirror_mode": {
    "name": "ipython",
    "version": 3
   },
   "file_extension": ".py",
   "mimetype": "text/x-python",
   "name": "python",
   "nbconvert_exporter": "python",
   "pygments_lexer": "ipython3",
   "version": "3.6.5"
  }
 },
 "nbformat": 4,
 "nbformat_minor": 2
}
